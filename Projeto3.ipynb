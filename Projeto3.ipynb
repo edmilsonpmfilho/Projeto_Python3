{
 "cells": [
  {
   "cell_type": "markdown",
   "id": "36e9aedc",
   "metadata": {},
   "source": [
    "Selenium> biblioteca utilizada para autmatizações WEB, qualquer processo que seja feito no navegador.\n",
    "WebDriver> baixar e por na pasta onde está o python\n",
    "\n",
    "Projeto de Automação com interface de internet(PEsquisar a cotação do Dolar,Euro e Ouro e atualizar automaticamente na tabela)\n",
    "1º Pegar a cotação do Dolar\n",
    "2º Pegar a cotação do Euro\n",
    "3º Pegar a cotação do Ouro\n",
    "4º Atualizar a base de dados\n",
    "5º Recalcular os preços\n",
    "6º Exportar a base de dados"
   ]
  },
  {
   "cell_type": "code",
   "execution_count": null,
   "id": "ef53b597",
   "metadata": {},
   "outputs": [],
   "source": [
    "#Pegar a cotação do dolar\n",
    "#Importar o pacote webdriver do selenium\n",
    "from selenium import webdriver #serve para pegar um pacote especifico da biblioteca do selenium \n",
    "from selenium.webdriver.common.keys import Keys #serve para poder possibilitar \"apertar\" uma tecla do teclado\n",
    "\n",
    "#Abrir o navegador\n",
    "navegador = webdriver.Chrome()\n",
    "\n",
    "#Entrar no google\n",
    "navegador.get(\"https://www.google.com.br/\")#tem que passar a URL completa\n",
    "\n",
    "#Pesquisar a cotação do dolar\n",
    "navegador.find_element('xpath',\n",
    "'/html/body/div[1]/div[3]/form/div[1]/div[1]/div[1]/div/div[2]/input').send_keys(\"cotação dolar\")#usado para escrever oq quer pesquisar\n",
    "#para localizar um elemento(neste caso a barra de pesquisa),\n",
    "#passar os parametros 'xpath'e o local(que deve ser localizado pelo 'inspecionar')\n",
    "#usar o aspas simples para melhor execução\n",
    "#!!navegador.find_element('xpath','/html/body/div[1]/div[3]/form/div[1]/div[1]/div[4]/center/input[1]')#apertar o botão de pesquisar\n",
    "navegador.find_element('xpath',\n",
    "'/html/body/div[1]/div[3]/form/div[1]/div[1]/div[1]/div/div[2]/input').send_keys(Keys.ENTER)#para poder \"apertar\" a tecla ENTER\n",
    "\n",
    "#Pegar a cotação do dolar\n",
    "cotacao_dolar = navegador.find_element('xpath',\n",
    "                '//*[@id=\"knowledge-currency__updatable-data-column\"]/div[1]/div[2]/span[1]').get_attribute('data-value')#para pegar um atributo\n",
    "print('Cotação Dolar',cotacao_dolar)\n",
    "\n",
    "#Cotação Euro\n",
    "navegador.get(\"https://www.google.com.br/\")\n",
    "navegador.find_element('xpath',\n",
    "'/html/body/div[1]/div[3]/form/div[1]/div[1]/div[1]/div/div[2]/input').send_keys(\"cotação euro\")\n",
    "navegador.find_element('xpath',\n",
    "'/html/body/div[1]/div[3]/form/div[1]/div[1]/div[1]/div/div[2]/input').send_keys(Keys.ENTER)\n",
    "cotacao_euro = navegador.find_element('xpath',\n",
    "                '//*[@id=\"knowledge-currency__updatable-data-column\"]/div[1]/div[2]/span[1]').get_attribute('data-value')\n",
    "print('Cotação Euro',cotacao_euro)\n",
    "\n",
    "#Cotação Ouro\n",
    "navegador.get(\"https://www.melhorcambio.com/ouro-hoje\")#para poder pegar do ouro tem que ser em outro site\n",
    "cotacao_ouro = navegador.find_element('xpath',\n",
    "                '//*[@id=\"comercial\"]').get_attribute('value')\n",
    "cotacao_ouro = cotacao_ouro.replace(\",\",\".\")#serve para trocar elementos dentro do texto\n",
    "print('Cotação ouro',cotacao_ouro)\n",
    "\n",
    "navegador.quit()# para fechar o navegar depois de finalizar\n",
    "\n",
    "\n",
    "\n",
    "\n",
    "\n"
   ]
  },
  {
   "cell_type": "code",
   "execution_count": null,
   "id": "c590fc24",
   "metadata": {},
   "outputs": [],
   "source": [
    "#importar a base de dados\n",
    "import pandas as pd\n",
    "\n",
    "tabela= pd.read_excel(\"Produtos.xlsx\")\n",
    "display(tabela)"
   ]
  },
  {
   "cell_type": "code",
   "execution_count": null,
   "id": "5ffa391c",
   "metadata": {},
   "outputs": [],
   "source": [
    "#Recalcular os preços\n",
    "#atulaizar a coluna de cotação\n",
    "#tabela[\"Moeda\"]==\"Dólar\"-> onde na coluna moeda está como o valor \"Dólar\"\n",
    "tabela.loc[tabela[\"Moeda\"]==\"Dólar\",\"Cotação\"]=float(cotacao_dolar)#.loc[passar a informação da linha,segundo parametro onde quer que a coluna seja editado]serve para localizar\n",
    "tabela.loc[tabela[\"Moeda\"]==\"Euro\",\"Cotação\"]=float(cotacao_euro)\n",
    "tabela.loc[tabela[\"Moeda\"]==\"Ouro\",\"Cotação\"]=float(cotacao_ouro)\n",
    "\n",
    "\n",
    "#recalcular o preço de compra= preço original*cotação\n",
    "tabela[\"Preço de Compra\"] = tabela[\"Preço Original\"] * tabela[\"Cotação\"]#atulizar o novo preço de comprar\n",
    "\n",
    "#tabela[\"Preço de Compra\"] = tabela[\"Preço de Compra\"].map(\"{:.2f}\".format)/não funciona\n",
    "\n",
    "#recalcular o preço de venda= margem*prço de comprar\n",
    "tabela[\"Preço de Venda\"] = tabela[\"Preço de Compra\"] * tabela[\"Margem\"]#atualizar o novo preço de venda\n",
    "\n",
    "#tabela[\"Preço de Venda\"] = tabela[\"Preço de Venda\"].map(\"{:.2f}\".format)#com formatação não de preocupar com formatação durante o codigo\n",
    "display(tabela)\n",
    "\n"
   ]
  },
  {
   "cell_type": "code",
   "execution_count": null,
   "id": "2cf908b0",
   "metadata": {},
   "outputs": [],
   "source": [
    "#Exportar a base de dados\n",
    "tabela.to_excel(\"Produtos Novo.xlsx\",index=False)#para converter os dados atualizados para excel; to_excel(\"Passar o novo nome do produto\",index=False-> para não passar o indice do pandas)"
   ]
  },
  {
   "cell_type": "code",
   "execution_count": null,
   "id": "4a41d662",
   "metadata": {},
   "outputs": [],
   "source": []
  }
 ],
 "metadata": {
  "kernelspec": {
   "display_name": "Python 3 (ipykernel)",
   "language": "python",
   "name": "python3"
  },
  "language_info": {
   "codemirror_mode": {
    "name": "ipython",
    "version": 3
   },
   "file_extension": ".py",
   "mimetype": "text/x-python",
   "name": "python",
   "nbconvert_exporter": "python",
   "pygments_lexer": "ipython3",
   "version": "3.9.12"
  }
 },
 "nbformat": 4,
 "nbformat_minor": 5
}
